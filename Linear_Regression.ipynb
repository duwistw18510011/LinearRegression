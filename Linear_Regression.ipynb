{
  "nbformat": 4,
  "nbformat_minor": 0,
  "metadata": {
    "colab": {
      "name": "Linear Regression.ipynb",
      "provenance": [],
      "collapsed_sections": []
    },
    "kernelspec": {
      "name": "python3",
      "display_name": "Python 3"
    },
    "language_info": {
      "name": "python"
    }
  },
  "cells": [
    {
      "cell_type": "markdown",
      "metadata": {
        "id": "2r_N--YOcQ6s"
      },
      "source": [
        "Tugas Linear Regression"
      ]
    },
    {
      "cell_type": "markdown",
      "metadata": {
        "id": "hKoR2dagpohf"
      },
      "source": [
        "**data set**"
      ]
    },
    {
      "cell_type": "code",
      "metadata": {
        "colab": {
          "base_uri": "https://localhost:8080/",
          "height": 204
        },
        "id": "wNp6CWJ9cPtr",
        "outputId": "e4b082e5-0904-4019-8a4b-ae2d2ed812e8"
      },
      "source": [
        "import pandas as pd\n",
        "\n",
        "bola = {'diameter' : [3,4,5,11,12],\n",
        "        'harga' : [5,7,8,13,14]}\n",
        "\n",
        "bola_df = pd.DataFrame(bola)\n",
        "bola_df"
      ],
      "execution_count": 1,
      "outputs": [
        {
          "output_type": "execute_result",
          "data": {
            "text/html": [
              "<div>\n",
              "<style scoped>\n",
              "    .dataframe tbody tr th:only-of-type {\n",
              "        vertical-align: middle;\n",
              "    }\n",
              "\n",
              "    .dataframe tbody tr th {\n",
              "        vertical-align: top;\n",
              "    }\n",
              "\n",
              "    .dataframe thead th {\n",
              "        text-align: right;\n",
              "    }\n",
              "</style>\n",
              "<table border=\"1\" class=\"dataframe\">\n",
              "  <thead>\n",
              "    <tr style=\"text-align: right;\">\n",
              "      <th></th>\n",
              "      <th>diameter</th>\n",
              "      <th>harga</th>\n",
              "    </tr>\n",
              "  </thead>\n",
              "  <tbody>\n",
              "    <tr>\n",
              "      <th>0</th>\n",
              "      <td>3</td>\n",
              "      <td>5</td>\n",
              "    </tr>\n",
              "    <tr>\n",
              "      <th>1</th>\n",
              "      <td>4</td>\n",
              "      <td>7</td>\n",
              "    </tr>\n",
              "    <tr>\n",
              "      <th>2</th>\n",
              "      <td>5</td>\n",
              "      <td>8</td>\n",
              "    </tr>\n",
              "    <tr>\n",
              "      <th>3</th>\n",
              "      <td>11</td>\n",
              "      <td>13</td>\n",
              "    </tr>\n",
              "    <tr>\n",
              "      <th>4</th>\n",
              "      <td>12</td>\n",
              "      <td>14</td>\n",
              "    </tr>\n",
              "  </tbody>\n",
              "</table>\n",
              "</div>"
            ],
            "text/plain": [
              "   diameter  harga\n",
              "0         3      5\n",
              "1         4      7\n",
              "2         5      8\n",
              "3        11     13\n",
              "4        12     14"
            ]
          },
          "metadata": {
            "tags": []
          },
          "execution_count": 1
        }
      ]
    },
    {
      "cell_type": "code",
      "metadata": {
        "colab": {
          "base_uri": "https://localhost:8080/",
          "height": 295
        },
        "id": "iUSB9KObdi7v",
        "outputId": "020cf873-c9c4-4982-cde8-fb59f0aaac72"
      },
      "source": [
        "import matplotlib.pyplot as plt\n",
        "\n",
        "bola_df.plot(kind='scatter', x='diameter', y='harga')\n",
        "\n",
        "plt.title('Perbandingan Diameter dan Harga Bola')\n",
        "plt.xlabel('Diameter (inchi)')\n",
        "plt.ylabel('Harga (dolar)')\n",
        "plt.xlim(0,15)\n",
        "plt.ylim(0,15)\n",
        "plt.grid(True)\n",
        "plt.show()"
      ],
      "execution_count": 3,
      "outputs": [
        {
          "output_type": "display_data",
          "data": {
            "image/png": "[encoded data removed]",
            "text/plain": [
              "<Figure size 432x288 with 1 Axes>"
            ]
          },
          "metadata": {
            "tags": [],
            "needs_background": "light"
          }
        }
      ]
    },
    {
      "cell_type": "markdown",
      "metadata": {
        "id": "v7tRgEEZpwFN"
      },
      "source": [
        "**Model Simple Linear Regresssion**"
      ]
    },
    {
      "cell_type": "markdown",
      "metadata": {
        "id": "Ek1WBROuYBgj"
      },
      "source": [
        "1. Penyesuaian Data Set"
      ]
    },
    {
      "cell_type": "code",
      "metadata": {
        "colab": {
          "base_uri": "https://localhost:8080/"
        },
        "id": "9DFfIRuge1hs",
        "outputId": "69aa7c15-3789-49dc-c0fa-ce309542a6aa"
      },
      "source": [
        "import numpy as np\n",
        "\n",
        "x = np.array(bola_df['diameter'])\n",
        "y = np.array(bola_df['harga'])\n",
        "\n",
        "print(f'x : {x}')\n",
        "print(f'y : {y}')"
      ],
      "execution_count": 4,
      "outputs": [
        {
          "output_type": "stream",
          "text": [
            "x : [ 3  4  5 11 12]\n",
            "y : [ 5  7  8 13 14]\n"
          ],
          "name": "stdout"
        }
      ]
    },
    {
      "cell_type": "code",
      "metadata": {
        "colab": {
          "base_uri": "https://localhost:8080/"
        },
        "id": "Ix_XXmIIa9Af",
        "outputId": "58073d86-9ce3-4958-951a-88a3aaab71d8"
      },
      "source": [
        "x = x.reshape(-1,1)\n",
        "x.shape"
      ],
      "execution_count": 7,
      "outputs": [
        {
          "output_type": "execute_result",
          "data": {
            "text/plain": [
              "(5, 1)"
            ]
          },
          "metadata": {
            "tags": []
          },
          "execution_count": 7
        }
      ]
    },
    {
      "cell_type": "code",
      "metadata": {
        "colab": {
          "base_uri": "https://localhost:8080/"
        },
        "id": "J6A8p1PDbHOx",
        "outputId": "90b25ae8-7eed-4485-9dd7-4ded789d2a58"
      },
      "source": [
        "x"
      ],
      "execution_count": 8,
      "outputs": [
        {
          "output_type": "execute_result",
          "data": {
            "text/plain": [
              "array([[ 3],\n",
              "       [ 4],\n",
              "       [ 5],\n",
              "       [11],\n",
              "       [12]])"
            ]
          },
          "metadata": {
            "tags": []
          },
          "execution_count": 8
        }
      ]
    },
    {
      "cell_type": "markdown",
      "metadata": {
        "id": "l7wCYOu6cNMn"
      },
      "source": [
        "**Training Simple Linear Regression Model**"
      ]
    },
    {
      "cell_type": "code",
      "metadata": {
        "colab": {
          "base_uri": "https://localhost:8080/"
        },
        "id": "eBTwwU1AcBgk",
        "outputId": "3066e871-b9f2-4719-c388-4f39765559be"
      },
      "source": [
        "from sklearn.linear_model import LinearRegression\n",
        "\n",
        "model = LinearRegression()\n",
        "model.fit(x,y)"
      ],
      "execution_count": 9,
      "outputs": [
        {
          "output_type": "execute_result",
          "data": {
            "text/plain": [
              "LinearRegression(copy_X=True, fit_intercept=True, n_jobs=None, normalize=False)"
            ]
          },
          "metadata": {
            "tags": []
          },
          "execution_count": 9
        }
      ]
    },
    {
      "cell_type": "markdown",
      "metadata": {
        "id": "M0d9pOq4cgs-"
      },
      "source": [
        "**Visualisasi Simple Linear Regression**"
      ]
    },
    {
      "cell_type": "code",
      "metadata": {
        "id": "WSF66ELxceY8"
      },
      "source": [
        "x_vis = np.array([0,15]).reshape(-1,1)\n",
        "y_vis = model.predict(x_vis)"
      ],
      "execution_count": 10,
      "outputs": []
    },
    {
      "cell_type": "code",
      "metadata": {
        "colab": {
          "base_uri": "https://localhost:8080/",
          "height": 295
        },
        "id": "_jjqt5v8c2UF",
        "outputId": "a25b641b-59ee-4b5e-bf69-a549fbac6918"
      },
      "source": [
        "plt.scatter(x,y)\n",
        "plt.plot(x_vis, y_vis, '-r')\n",
        "\n",
        "plt.title('Perbandingan Diameter dan Harga Bola')\n",
        "plt.xlabel('Diameter (inchi)')\n",
        "plt.ylabel('Harga (dolar)')\n",
        "plt.xlim(0,15)\n",
        "plt.ylim(0,15)\n",
        "plt.grid(True)\n",
        "plt.show()"
      ],
      "execution_count": 11,
      "outputs": [
        {
          "output_type": "display_data",
          "data": {
            "image/png": "[encoded data removed]",
            "text/plain": [
              "<Figure size 432x288 with 1 Axes>"
            ]
          },
          "metadata": {
            "tags": [],
            "needs_background": "light"
          }
        }
      ]
    },
    {
      "cell_type": "code",
      "metadata": {
        "colab": {
          "base_uri": "https://localhost:8080/"
        },
        "id": "D2kmnZs_dPiU",
        "outputId": "2edc1303-aae6-475e-c59a-e0e681008d82"
      },
      "source": [
        "print(f'intercept: {model.intercept_}')\n",
        "print(f'slope: {model.coef_}')"
      ],
      "execution_count": 12,
      "outputs": [
        {
          "output_type": "stream",
          "text": [
            "intercept: 2.9000000000000004\n",
            "slope: [0.92857143]\n"
          ],
          "name": "stdout"
        }
      ]
    },
    {
      "cell_type": "markdown",
      "metadata": {
        "id": "LQavboBeelQc"
      },
      "source": [
        "**Menghitung Slope**"
      ]
    },
    {
      "cell_type": "code",
      "metadata": {
        "colab": {
          "base_uri": "https://localhost:8080/"
        },
        "id": "sxHMoiMoeOSt",
        "outputId": "00dd9546-22c8-4ddd-f582-09e123a34bb5"
      },
      "source": [
        "print(f'x:\\n{x}\\n')\n",
        "print(f'x flatten: {x.flatten()}\\n')\n",
        "print(f'y: {y}')"
      ],
      "execution_count": 15,
      "outputs": [
        {
          "output_type": "stream",
          "text": [
            "x:\n",
            "[[ 3]\n",
            " [ 4]\n",
            " [ 5]\n",
            " [11]\n",
            " [12]]\n",
            "\n",
            "x flatten: [ 3  4  5 11 12]\n",
            "\n",
            "y: [ 5  7  8 13 14]\n"
          ],
          "name": "stdout"
        }
      ]
    },
    {
      "cell_type": "markdown",
      "metadata": {
        "id": "mcO7S0J3edrn"
      },
      "source": [
        "**Variance**"
      ]
    },
    {
      "cell_type": "code",
      "metadata": {
        "colab": {
          "base_uri": "https://localhost:8080/"
        },
        "id": "BgWYnZd4eQle",
        "outputId": "6b12cc81-e7ae-4a21-bb5a-43f2c51d9915"
      },
      "source": [
        "variance_x = np.var(x.flatten(), ddof=1)\n",
        "print(f'variance: {variance_x}')"
      ],
      "execution_count": 16,
      "outputs": [
        {
          "output_type": "stream",
          "text": [
            "variance: 17.5\n"
          ],
          "name": "stdout"
        }
      ]
    },
    {
      "cell_type": "markdown",
      "metadata": {
        "id": "57JbJhP0fKry"
      },
      "source": [
        "**Covariance**"
      ]
    },
    {
      "cell_type": "code",
      "metadata": {
        "colab": {
          "base_uri": "https://localhost:8080/"
        },
        "id": "bf9Zlc6VfI7y",
        "outputId": "b4676f6f-444d-4457-e10a-673c4e6afe59"
      },
      "source": [
        "np.cov(x.flatten(), y)"
      ],
      "execution_count": 17,
      "outputs": [
        {
          "output_type": "execute_result",
          "data": {
            "text/plain": [
              "array([[17.5 , 16.25],\n",
              "       [16.25, 15.3 ]])"
            ]
          },
          "metadata": {
            "tags": []
          },
          "execution_count": 17
        }
      ]
    },
    {
      "cell_type": "code",
      "metadata": {
        "colab": {
          "base_uri": "https://localhost:8080/"
        },
        "id": "oqMWOWw-fcrW",
        "outputId": "ffaffa5e-6c87-4d6e-8a8d-0d30e808f013"
      },
      "source": [
        "covariance_xy = np.cov(x.flatten(), y)[0][1]\n",
        "print(f'covariance: {covariance_xy}')"
      ],
      "execution_count": 23,
      "outputs": [
        {
          "output_type": "stream",
          "text": [
            "covariance: 16.25\n"
          ],
          "name": "stdout"
        }
      ]
    },
    {
      "cell_type": "markdown",
      "metadata": {
        "id": "U-6lT1uifXQ-"
      },
      "source": [
        "**Nilai Slope**"
      ]
    },
    {
      "cell_type": "code",
      "metadata": {
        "colab": {
          "base_uri": "https://localhost:8080/"
        },
        "id": "rtf297n2fSrK",
        "outputId": "b86dae7c-9e25-4c89-e6db-0a3a083508d4"
      },
      "source": [
        "slope = covariance_xy / variance_x\n",
        "print(f'slope : {slope}')"
      ],
      "execution_count": 24,
      "outputs": [
        {
          "output_type": "stream",
          "text": [
            "slope : 0.9285714285714286\n"
          ],
          "name": "stdout"
        }
      ]
    },
    {
      "cell_type": "markdown",
      "metadata": {
        "id": "xt-PnII1gRrS"
      },
      "source": [
        "**Mencari nilai Intercept** dengan memanfaatkan rumus\n",
        "\n",
        "![9e78d188-aec3-46dc-bc3b-c593e5304937.gif](data:image/gif;base64,R0lGODlhRwAZAIcAAAAAAAEBAQICAgMDAwQEBAUFBQYGBgcHBwgICAkJCQoKCgsLCwwMDA0NDQ4ODg8PDxAQEBERERISEhMTExQUFBUVFRYWFhcXFxgYGBkZGRoaGhsbGxwcHB0dHR4eHh8fHyAgICEhISIiIiMjIyQkJCUlJSYmJicnJygoKCkpKSoqKisrKywsLC0tLS4uLi8vLzAwMDExMTIyMjMzMzQ0NDU1NTY2Njc3Nzg4ODk5OTo6Ojs7Ozw8PD09PT4+Pj8/P0BAQEFBQUJCQkNDQ0REREVFRUZGRkdHR0hISElJSUpKSktLS0xMTE1NTU5OTk9PT1BQUFFRUVJSUlNTU1RUVFVVVVZWVldXV1hYWFlZWVpaWltbW1xcXF1dXV5eXl9fX2BgYGFhYWJiYmNjY2RkZGVlZWZmZmdnZ2hoaGlpaWpqamtra2xsbG1tbW5ubm9vb3BwcHFxcXJycnNzc3R0dHV1dXZ2dnd3d3h4eHl5eXp6ent7e3x8fH19fX5+fn9/f4CAgIGBgYKCgoODg4SEhIWFhYaGhoeHh4iIiImJiYqKiouLi4yMjI2NjY6Ojo+Pj5CQkJGRkZKSkpOTk5SUlJWVlZaWlpeXl5iYmJmZmZqampubm5ycnJ2dnZ6enp+fn6CgoKGhoaKioqOjo6SkpKWlpaampqenp6ioqKmpqaqqqqurq6ysrK2tra6urq+vr7CwsLGxsbKysrOzs7S0tLW1tba2tre3t7i4uLm5ubq6uru7u7y8vL29vb6+vr+/v8DAwMHBwcLCwsPDw8TExMXFxcbGxsfHx8jIyMnJycrKysvLy8zMzM3Nzc7Ozs/Pz9DQ0NHR0dLS0tPT09TU1NXV1dbW1tfX19jY2NnZ2dra2tvb29zc3N3d3d7e3t/f3+Dg4OHh4eLi4uPj4+Tk5OXl5ebm5ufn5+jo6Onp6erq6uvr6+zs7O3t7e7u7u/v7/Dw8PHx8fLy8vPz8/T09PX19fb29vf39/j4+Pn5+fr6+vv7+/z8/P39/f7+/v///yH/C05FVFNDQVBFMi4wAwEBAAAh+QQAAAAAACwAAAAARwAZAAAI/wD/CRxIsKDBgwgTKlzIsKHDhxAjSpxIsaLFixgZFiBQoKPHAhg/esxIsqTJkyhTCuQXpEAelTAJusEVM+a+GfJqwkwGhaKjAgcEpcgp0U0BFfH+JVNB1GGbVS0KDBWYDOgtpUebsuzJj8VLgm08cuzY06CyCkn5hUnqcF+LCvLcwiL46MmjsmCfCNwn5FXFZRFo8kMEViTZgcn0/uMnZO7AZQ++EjxLlNmFphK7zp3E1qljfiJoDuTrWCaevUIUF974UTVBfi1gLfMD8SbRugUhNXEtsI1etwVWDavIlw4OzAwTC3QEl2CyPMtcyIN0VaCyjhXcvUVeOwjaoocH/h3kKsRlzNI6S0Z31zj9yWUQDoh2T7++/fv488cMCAA7)"
      ]
    },
    {
      "cell_type": "code",
      "metadata": {
        "colab": {
          "base_uri": "https://localhost:8080/"
        },
        "id": "j0wgxhRqgEN5",
        "outputId": "2b4f25fe-306a-4b30-a07c-590c94e2e459"
      },
      "source": [
        "intercept = np.mean(y) - slope * np.mean(x)\n",
        "print(f'intercept: {intercept}')"
      ],
      "execution_count": 25,
      "outputs": [
        {
          "output_type": "stream",
          "text": [
            "intercept: 2.9000000000000004\n"
          ],
          "name": "stdout"
        }
      ]
    },
    {
      "cell_type": "markdown",
      "metadata": {
        "id": "sHVcpFkthfml"
      },
      "source": [
        "**Prediksi Harga Bola berdasarkan Diameter**"
      ]
    },
    {
      "cell_type": "code",
      "metadata": {
        "colab": {
          "base_uri": "https://localhost:8080/"
        },
        "id": "p4uNyxOPhcH_",
        "outputId": "e13c1f62-cbe8-4dac-acfb-cd2e34ef0b94"
      },
      "source": [
        "diameter_bola = np.array([3, 4, 5]).reshape(-1,1)\n",
        "diameter_bola"
      ],
      "execution_count": 26,
      "outputs": [
        {
          "output_type": "execute_result",
          "data": {
            "text/plain": [
              "array([[3],\n",
              "       [4],\n",
              "       [5]])"
            ]
          },
          "metadata": {
            "tags": []
          },
          "execution_count": 26
        }
      ]
    },
    {
      "cell_type": "code",
      "metadata": {
        "colab": {
          "base_uri": "https://localhost:8080/"
        },
        "id": "9vrOxXFGh6J6",
        "outputId": "8ddb6c41-376d-4ad8-f6a9-73f98268b971"
      },
      "source": [
        "prediksi_harga = model.predict(diameter_bola)\n",
        "prediksi_harga"
      ],
      "execution_count": 27,
      "outputs": [
        {
          "output_type": "execute_result",
          "data": {
            "text/plain": [
              "array([5.68571429, 6.61428571, 7.54285714])"
            ]
          },
          "metadata": {
            "tags": []
          },
          "execution_count": 27
        }
      ]
    },
    {
      "cell_type": "code",
      "metadata": {
        "colab": {
          "base_uri": "https://localhost:8080/"
        },
        "id": "nG3CWkaRiYIl",
        "outputId": "84e8f21c-a666-41f4-a1dc-3a4f2bc75210"
      },
      "source": [
        "for dmtr, hrg in zip(diameter_bola, prediksi_harga):\n",
        "  print(f'Diameter : {dmtr} prediksi harga : {hrg}')"
      ],
      "execution_count": 29,
      "outputs": [
        {
          "output_type": "stream",
          "text": [
            "Diameter : [3] prediksi harga : 5.685714285714286\n",
            "Diameter : [4] prediksi harga : 6.614285714285715\n",
            "Diameter : [5] prediksi harga : 7.542857142857144\n"
          ],
          "name": "stdout"
        }
      ]
    },
    {
      "cell_type": "markdown",
      "metadata": {
        "id": "0UCnRlZUi2f0"
      },
      "source": [
        "**Evaluasi Simple Linear Regression Model Training & Testing Dataset**"
      ]
    },
    {
      "cell_type": "code",
      "metadata": {
        "id": "ki4tJRdxigto"
      },
      "source": [
        "x_train = np.array([3, 4, 5 , 11, 12]).reshape(-1,1)\n",
        "y_train = np.array([5, 7, 8, 13, 14])\n",
        "\n",
        "x_test = np.array([4, 6, 9, 10, 14]).reshape(-1,1)\n",
        "y_test = np.array([5, 7, 11, 14, 16])"
      ],
      "execution_count": 30,
      "outputs": []
    },
    {
      "cell_type": "markdown",
      "metadata": {
        "id": "o70rDSzmj2ju"
      },
      "source": [
        "**Training Simple Linear Regression Model**"
      ]
    },
    {
      "cell_type": "code",
      "metadata": {
        "colab": {
          "base_uri": "https://localhost:8080/"
        },
        "id": "vG7XGxCfj0a6",
        "outputId": "bc196141-4f03-45c3-b7e6-96815c83e02d"
      },
      "source": [
        "model = LinearRegression()\n",
        "model.fit(x_train, y_train)"
      ],
      "execution_count": 31,
      "outputs": [
        {
          "output_type": "execute_result",
          "data": {
            "text/plain": [
              "LinearRegression(copy_X=True, fit_intercept=True, n_jobs=None, normalize=False)"
            ]
          },
          "metadata": {
            "tags": []
          },
          "execution_count": 31
        }
      ]
    },
    {
      "cell_type": "markdown",
      "metadata": {
        "id": "UThVVC6GkC1L"
      },
      "source": [
        "**Evaluasi Linear Regression Model dengan Coefficient of Determination (R-Square)**"
      ]
    },
    {
      "cell_type": "code",
      "metadata": {
        "colab": {
          "base_uri": "https://localhost:8080/"
        },
        "id": "6byXcYTNkBzi",
        "outputId": "c06e4b92-eabb-49ea-e5cf-c90d883de63c"
      },
      "source": [
        "from sklearn.metrics import r2_score\n",
        "\n",
        "y_pred = model.predict(x_test)\n",
        "\n",
        "r_square = r2_score(y_test, y_pred)\n",
        "print(f'R-square: {r_square}')"
      ],
      "execution_count": 33,
      "outputs": [
        {
          "output_type": "stream",
          "text": [
            "R-square: 0.9044744658426751\n"
          ],
          "name": "stdout"
        }
      ]
    },
    {
      "cell_type": "markdown",
      "metadata": {
        "id": "zIs9gXlekyNm"
      },
      "source": [
        "Karena R-square sangat mendekati 100% (jika dalam persentase) maka model tersebut sangat baik sekali dengan hasil R-square 0.9044744658426751"
      ]
    }
  ]
}